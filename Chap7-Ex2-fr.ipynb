{
 "cells": [
  {
   "cell_type": "markdown",
   "id": "b0a96729-3d63-481a-b6e6-f816ed62ab8a",
   "metadata": {},
   "source": [
    "# Chapitre 7 - Exercice II"
   ]
  },
  {
   "cell_type": "markdown",
   "id": "ccd735d1-324a-4c30-8ac8-9e8194610b70",
   "metadata": {},
   "source": [
    "## Question 1"
   ]
  },
  {
   "cell_type": "code",
   "execution_count": 1,
   "id": "43cf53fa-2e52-4537-9862-2bb8d7121a1a",
   "metadata": {},
   "outputs": [
    {
     "name": "stdout",
     "output_type": "stream",
     "text": [
      "Matrice A:\n",
      "[[ 82  24  -7 -57 -20 -45  73 -30  -3 -58]\n",
      " [ 24 -36  -1 -39 -77 -42  59 -27 -57 -33]\n",
      " [ -7  -1  94 -13  -5  12 -10 -66 -87  -8]\n",
      " [-57 -39 -13 -18  20 -39  47   3  -6  -5]\n",
      " [-20 -77  -5  20 -62  52  26  20 -87   3]\n",
      " [-45 -42  12 -39  52  42  52  16  -5  47]\n",
      " [ 73  59 -10  47  26  52  48   4  14  18]\n",
      " [-30 -27 -66   3  20  16   4 -12 -29  36]\n",
      " [ -3 -57 -87  -6 -87  -5  14 -29 -50   8]\n",
      " [-58 -33  -8  -5   3  47  18  36   8 -36]]\n",
      "\n"
     ]
    }
   ],
   "source": [
    "import numpy as np\n",
    "\n",
    "N = 10\n",
    "\n",
    "M = np.random.randint(-49, 49, size=(N, N))\n",
    "A = M + M.T\n",
    "\n",
    "print(f\"Matrice A:\\n{A}\\n\")"
   ]
  },
  {
   "cell_type": "code",
   "execution_count": 2,
   "id": "28992cc8-d565-4a4e-84a4-2387c46fabbb",
   "metadata": {},
   "outputs": [],
   "source": [
    "def power_iteration(A, num_simulations: int = 1000):\n",
    "    b_k = np.random.rand(A.shape[1])\n",
    "    \n",
    "    for _ in range(num_simulations):\n",
    "        # Calculate the matrix-by-vector product Ab\n",
    "        b_k1 = np.dot(A, b_k)\n",
    "        \n",
    "        # Re-normalize the vector\n",
    "        b_k1_norm = np.linalg.norm(b_k1)\n",
    "        b_k = b_k1 / b_k1_norm\n",
    "\n",
    "    eigenvalue = np.dot(b_k.T, np.dot(A, b_k)) / np.dot(b_k.T, b_k)\n",
    "    \n",
    "    return eigenvalue, b_k"
   ]
  },
  {
   "cell_type": "code",
   "execution_count": 3,
   "id": "d91f44e0-d990-4fbd-a39c-c3bf0c243302",
   "metadata": {},
   "outputs": [],
   "source": [
    "eigenvalue_1, eigenvector_1 = power_iteration(A)"
   ]
  },
  {
   "cell_type": "code",
   "execution_count": 4,
   "id": "b3168c9e-264d-4a5d-b1eb-e26542aa3868",
   "metadata": {},
   "outputs": [
    {
     "name": "stdout",
     "output_type": "stream",
     "text": [
      "Plus grande valeur propre : -231.26443295484185\n",
      "\n",
      "Vecteur propre associé : [ 0.13339888  0.50613847  0.1868684   0.17305979  0.51560913  0.05288166\n",
      " -0.25736069  0.14534712  0.54482215  0.09120506]\n",
      "\n"
     ]
    }
   ],
   "source": [
    "print(f\"Plus grande valeur propre : {eigenvalue_1}\\n\")\n",
    "print(f\"Vecteur propre associé : {eigenvector_1}\\n\")"
   ]
  },
  {
   "cell_type": "markdown",
   "id": "385c4897-a7d4-49dd-838c-dd5b87fd8858",
   "metadata": {},
   "source": [
    "## Question 2\n",
    "\n",
    "On a $$B^T=A^T-\\frac{\\lambda_1}{\\|v_1\\|^2}(v_1\\otimes v_1)^T = A-\\frac{\\lambda_1}{\\|v_1\\|^2}v_1\\otimes v_1 = B$$\n",
    "donc $B$ est symétrique.\n",
    "\n",
    "Soit $\\lambda$ un vecteur propre de $A$ different de $\\lambda_1$ et $v$ un vecteur propre associé à $\\lambda$.\n",
    "Alors~:\n",
    "$$Bv = Av-\\frac{\\lambda_1}{\\|v_1\\|^2}(v_1\\otimes v_1)v = \\lambda v - \\frac{\\lambda_1}{\\|v_1\\|^2}v_1 <v_1,v>$$\n",
    "Comme rappelé dans l'exercice I, question 3, on a $<v_1,v>=0$ donc $Bv=\\lambda v$.\n",
    "Ainsi $\\lambda$ est un vecteur propre de $B$ associé à la valeur propre $\\lambda$.\n",
    "\n",
    "Par ailleurs $$Bv_1=Av_1-\\frac{\\lambda_1}{\\|v_1\\|^2}(v_1\\otimes v_1)v=\\lambda_1v_1 - \\frac{\\lambda_1}{\\|v_1\\|^2}v_1 <v_1,v_1> = 0$$\n",
    "donc $v_1$ est dans le noyau de $B$."
   ]
  },
  {
   "cell_type": "markdown",
   "id": "deded6ba-d4da-4691-af33-a0e996b4d32d",
   "metadata": {},
   "source": [
    "## Question 3\n",
    "\n",
    "B possède les mêmes valeurs propres que $A$, à l'exception de la plus grande, qui a été supprimée et le vecteur \"placé\" dans le noyau.\n",
    "\n",
    "Par conséquent, une stratégie pour trouver la deuxième valeur propre la plus grande en magnitude consiste à calculer $B$ et à appliquer la méthode de la puissance à B."
   ]
  },
  {
   "cell_type": "code",
   "execution_count": 5,
   "id": "1915f884-149a-4d24-9312-24ee44f8c017",
   "metadata": {},
   "outputs": [],
   "source": [
    "def deflate_matrix(A, eigenvalue, eigenvector):\n",
    "    eigenvector = eigenvector.reshape(-1, 1) # On veut un vecteur colonne.\n",
    "    return A - eigenvalue * np.dot(eigenvector, eigenvector.T)"
   ]
  },
  {
   "cell_type": "code",
   "execution_count": 6,
   "id": "0f21e19a-9902-457d-861d-fb60794c018c",
   "metadata": {},
   "outputs": [
    {
     "name": "stdout",
     "output_type": "stream",
     "text": [
      "Matrice B:\n",
      "[[ 86.115411    39.61458271  -1.23503206 -51.66103352  -4.09324356\n",
      "  -43.36857881  65.0603155  -25.51598081  13.80799013 -55.1862859 ]\n",
      " [ 39.61458271  23.24443342  20.87328765 -18.74303572 -16.6470088\n",
      "  -35.81010521  28.87546074  -9.98685395   6.77242803 -22.32428099]\n",
      " [ -1.23503206  20.87328765 102.07570745  -5.52104576  17.28257173\n",
      "   14.28533453 -21.12210337 -59.71867675 -63.45495818  -4.05848078]\n",
      " [-51.66103352 -18.74303572  -5.52104576 -11.07370198  40.63600437\n",
      "  -36.88353993  36.69976282   8.8171658   15.80518442  -1.34973877]\n",
      " [ -4.09324356 -16.6470088   17.28257173  40.63600437  -0.51770813\n",
      "   58.30571759  -4.6882174   37.33148913 -22.03428819  13.87547873]\n",
      " [-43.36857881 -35.81010521  14.28533453 -36.88353993  58.30571759\n",
      "   42.64672401  48.85256964  17.77754395   1.66298245  48.11540568]\n",
      " [ 65.0603155   28.87546074 -21.12210337  36.69976282  -4.6882174\n",
      "   48.85256964  63.31769     -4.65082433 -18.42692859  12.57162306]\n",
      " [-25.51598081  -9.98685395 -59.71867675   8.8171658   37.33148913\n",
      "   17.77754395  -4.65082433  -7.11435722 -10.68655569  39.06573219]\n",
      " [ 13.80799013   6.77242803 -63.45495818  15.80518442 -22.03428819\n",
      "    1.66298245 -18.42692859 -10.68655569  18.64649288  19.49165386]\n",
      " [-55.1862859  -22.32428099  -4.05848078  -1.34973877  13.87547873\n",
      "   48.11540568  12.57162306  39.06573219  19.49165386 -34.07625848]]\n",
      "\n"
     ]
    }
   ],
   "source": [
    "B = deflate_matrix(A, eigenvalue_1, eigenvector_1)\n",
    "\n",
    "print(f\"Matrice B:\\n{B}\\n\")"
   ]
  },
  {
   "cell_type": "code",
   "execution_count": 7,
   "id": "1d8caa4f-a054-4b8c-bec8-c3428bc954d7",
   "metadata": {},
   "outputs": [
    {
     "name": "stdout",
     "output_type": "stream",
     "text": [
      "Deuxième plus grande valeur propre : 201.60415490325067\n",
      "\n",
      "Vecteur propre associé : [ 0.65178588  0.35716881  0.12076818 -0.15415991 -0.24787356 -0.37390162\n",
      "  0.1790904  -0.27689055 -0.00176779 -0.31506633]\n",
      "\n"
     ]
    }
   ],
   "source": [
    "eigenvalue_2, eigenvector_2 = power_iteration(B)\n",
    "print(f\"Deuxième plus grande valeur propre : {eigenvalue_2}\\n\")\n",
    "print(f\"Vecteur propre associé : {eigenvector_2}\\n\")"
   ]
  },
  {
   "cell_type": "markdown",
   "id": "b302374c-42c5-4b4c-97be-f7d5b85b5c25",
   "metadata": {},
   "source": [
    "## Question 4"
   ]
  },
  {
   "cell_type": "code",
   "execution_count": 8,
   "id": "d73f50f5-c35e-49b8-a35b-62e1782eef23",
   "metadata": {},
   "outputs": [
    {
     "name": "stdout",
     "output_type": "stream",
     "text": [
      "1e plus grande valeur propre : -231.26443295484188\n",
      "\n",
      "2e plus grande valeur propre : 201.60415490325065\n",
      "\n",
      "3e plus grande valeur propre : 157.538411656838\n",
      "\n",
      "4e plus grande valeur propre : -137.45675409233579\n",
      "\n",
      "5e plus grande valeur propre : 128.95142476818705\n",
      "\n"
     ]
    }
   ],
   "source": [
    "matrix = A\n",
    "\n",
    "for i in range(1,6):\n",
    "    \n",
    "    eigenvalue, eigenvector = power_iteration(matrix)\n",
    "    print(f\"{i}e plus grande valeur propre : {eigenvalue}\\n\")\n",
    "     \n",
    "    deflated_matrix = deflate_matrix(matrix, eigenvalue, eigenvector)\n",
    "    matrix = deflated_matrix"
   ]
  },
  {
   "cell_type": "markdown",
   "id": "89c7914b-8c11-423e-a704-1e539d396614",
   "metadata": {},
   "source": [
    "## Question 5\n",
    "\n",
    "Nous remplaçons $N=10$ dans la question 1 par d'autres valeurs de $N$.\n",
    "\n",
    "Notons que le temps nécessaire pour effectuer ces opérations est proportionnel à $N^3$, ce qui est attendu en raison de la complexité informatique de la multiplication des matrices. Cependant, il serait possible d'optimiser la multiplication matricielle."
   ]
  },
  {
   "cell_type": "code",
   "execution_count": null,
   "id": "fa19a512-ac2f-41a0-b375-5c1e181508a8",
   "metadata": {},
   "outputs": [],
   "source": []
  }
 ],
 "metadata": {
  "kernelspec": {
   "display_name": "Python 3 (ipykernel)",
   "language": "python",
   "name": "python3"
  },
  "language_info": {
   "codemirror_mode": {
    "name": "ipython",
    "version": 3
   },
   "file_extension": ".py",
   "mimetype": "text/x-python",
   "name": "python",
   "nbconvert_exporter": "python",
   "pygments_lexer": "ipython3",
   "version": "3.9.6"
  }
 },
 "nbformat": 4,
 "nbformat_minor": 5
}
