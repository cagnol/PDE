{
 "cells": [
  {
   "cell_type": "markdown",
   "id": "b0a96729-3d63-481a-b6e6-f816ed62ab8a",
   "metadata": {},
   "source": [
    "# Chapter 7 - Exercise II"
   ]
  },
  {
   "cell_type": "markdown",
   "id": "ccd735d1-324a-4c30-8ac8-9e8194610b70",
   "metadata": {},
   "source": [
    "## Question 1"
   ]
  },
  {
   "cell_type": "code",
   "execution_count": 1,
   "id": "43cf53fa-2e52-4537-9862-2bb8d7121a1a",
   "metadata": {},
   "outputs": [
    {
     "name": "stdout",
     "output_type": "stream",
     "text": [
      "Matrix A:\n",
      "[[ 56  37  69  38 -57  50  82  81 -93 -25]\n",
      " [ 37  54  -5 -51  -1  -9  15  20  43  90]\n",
      " [ 69  -5  18  13 -50   3  -6  -2  40 -15]\n",
      " [ 38 -51  13 -20  -8  87 -67  54   0  76]\n",
      " [-57  -1 -50  -8 -72 -38  40  29   6 -12]\n",
      " [ 50  -9   3  87 -38  16  88   4  42  -4]\n",
      " [ 82  15  -6 -67  40  88 -20 -55  37  39]\n",
      " [ 81  20  -2  54  29   4 -55 -88 -24  46]\n",
      " [-93  43  40   0   6  42  37 -24 -40  40]\n",
      " [-25  90 -15  76 -12  -4  39  46  40  22]]\n",
      "\n"
     ]
    }
   ],
   "source": [
    "import numpy as np\n",
    "\n",
    "N = 10\n",
    "\n",
    "M = np.random.randint(-49, 49, size=(N, N))\n",
    "A = M + M.T\n",
    "\n",
    "print(f\"Matrix A:\\n{A}\\n\")"
   ]
  },
  {
   "cell_type": "code",
   "execution_count": 2,
   "id": "28992cc8-d565-4a4e-84a4-2387c46fabbb",
   "metadata": {},
   "outputs": [],
   "source": [
    "def power_iteration(A, num_simulations: int = 1000):\n",
    "    b_k = np.random.rand(A.shape[1])\n",
    "    \n",
    "    for _ in range(num_simulations):\n",
    "        # Calculate the matrix-by-vector product Ab\n",
    "        b_k1 = np.dot(A, b_k)\n",
    "        \n",
    "        # Re-normalize the vector\n",
    "        b_k1_norm = np.linalg.norm(b_k1)\n",
    "        b_k = b_k1 / b_k1_norm\n",
    "\n",
    "    eigenvalue = np.dot(b_k.T, np.dot(A, b_k)) / np.dot(b_k.T, b_k)\n",
    "    \n",
    "    return eigenvalue, b_k"
   ]
  },
  {
   "cell_type": "code",
   "execution_count": 3,
   "id": "d91f44e0-d990-4fbd-a39c-c3bf0c243302",
   "metadata": {},
   "outputs": [],
   "source": [
    "eigenvalue_1, eigenvector_1 = power_iteration(A)"
   ]
  },
  {
   "cell_type": "code",
   "execution_count": 4,
   "id": "b3168c9e-264d-4a5d-b1eb-e26542aa3868",
   "metadata": {},
   "outputs": [
    {
     "name": "stdout",
     "output_type": "stream",
     "text": [
      "Largest eigenvalue: -255.4703074416301\n",
      "\n",
      "Associated eigenvector: [ 0.39836599 -0.15735726 -0.04847544 -0.33807963  0.33265967  0.23565983\n",
      " -0.53094329 -0.36622226  0.15027753  0.30837422]\n",
      "\n"
     ]
    }
   ],
   "source": [
    "print(f\"Largest eigenvalue: {eigenvalue_1}\\n\")\n",
    "print(f\"Associated eigenvector: {eigenvector_1}\\n\")"
   ]
  },
  {
   "cell_type": "markdown",
   "id": "385c4897-a7d4-49dd-838c-dd5b87fd8858",
   "metadata": {},
   "source": [
    "## Question 2\n",
    "\n",
    "We have $$B^T=A^T-\\frac{\\lambda_1}{\\|v_1\\|^2}(v_1\\otimes v_1)^T = A-\\frac{\\lambda_1}{\\|v_1\\|^2}v_1\\otimes v_1 = B$$\n",
    "therefore $B$ is symmetric.\n",
    "\n",
    "Let $\\lambda$ be an eigenvector of $A$ different from $\\lambda_1$ and $v$ be an eigenvector associated to $\\lambda$.\n",
    "Then:\n",
    "$$Bv = Av-\\frac{\\lambda_1}{\\|v_1\\|^2}(v_1\\otimes v_1)v = \\lambda v - \\frac{\\lambda_1}{\\|v_1\\|^2}v_1 <v_1,v>$$\n",
    "As recalled in Exercise I, Question 3, we have $<v_1,v>=0$ therefore $Bv=\\lambda v$.\n",
    "Subsequently $\\lambda$ is an eigenvector of $B$ associated to $\\lambda$.\n",
    "\n",
    "Furthermore $$Bv_1=Av_1-\\frac{\\lambda_1}{\\|v_1\\|^2}(v_1\\otimes v_1)v=\\lambda_1v_1 - \\frac{\\lambda_1}{\\|v_1\\|^2}v_1 <v_1,v_1> = 0$$\n",
    "therefore $v_1$ is in the nullspace of $B$."
   ]
  },
  {
   "cell_type": "markdown",
   "id": "deded6ba-d4da-4691-af33-a0e996b4d32d",
   "metadata": {},
   "source": [
    "## Question 3\n",
    "\n",
    "B has the same eigenvalues of $A$ but for the largest one, which has been removed and the vector \"placed\" in the kernel.\n",
    "\n",
    "Therefore, a strategy to find the second larged eigenvalue in magnitude is to compute $B$ and apply the power method to B."
   ]
  },
  {
   "cell_type": "code",
   "execution_count": 5,
   "id": "1915f884-149a-4d24-9312-24ee44f8c017",
   "metadata": {},
   "outputs": [],
   "source": [
    "def deflate_matrix(A, eigenvalue, eigenvector):\n",
    "    eigenvector = eigenvector.reshape(-1, 1) # We want the vector in column.\n",
    "    return A - eigenvalue * np.dot(eigenvector, eigenvector.T)"
   ]
  },
  {
   "cell_type": "code",
   "execution_count": 6,
   "id": "a2409449-dc17-4bad-b0f4-995e14f9e6c1",
   "metadata": {},
   "outputs": [
    {
     "name": "stdout",
     "output_type": "stream",
     "text": [
      "Matrix B:\n",
      "[[ 9.65419788e+01  2.09856439e+01  6.40666217e+01  3.59340554e+00\n",
      "  -2.31449986e+01  7.39832613e+01  2.79655393e+01  4.37293103e+01\n",
      "  -7.77061536e+01  6.38345507e+00]\n",
      " [ 2.09856439e+01  6.03257791e+01 -3.05128217e+00 -3.74091622e+01\n",
      "  -1.43729548e+01 -1.84735506e+01  3.63439778e+01  3.47221748e+01\n",
      "   3.69588271e+01  7.76033228e+01]\n",
      " [ 6.40666217e+01 -3.05128217e+00  1.86003215e+01  1.71867899e+01\n",
      "  -5.41196689e+01  8.15805113e-02  5.75220147e-01  2.53530926e+00\n",
      "   3.81389579e+01 -1.88189171e+01]\n",
      " [ 3.59340554e+00 -3.74091622e+01  1.71867899e+01  9.19970302e+00\n",
      "  -3.67315848e+01  6.66462242e+01 -2.11427965e+01  8.56303630e+01\n",
      "  -1.29793657e+01  4.93659322e+01]\n",
      " [-2.31449986e+01 -1.43729548e+01 -5.41196689e+01 -3.67315848e+01\n",
      "  -4.37290288e+01 -1.79725280e+01 -5.12203875e+00 -2.12327732e+00\n",
      "   1.87712856e+01  1.42070808e+01]\n",
      " [ 7.39832613e+01 -1.84735506e+01  8.15805113e-02  6.66462242e+01\n",
      "  -1.79725280e+01  3.01876850e+01  5.60350435e+01 -1.80480775e+01\n",
      "   5.10473215e+01  1.45653889e+01]\n",
      " [ 2.79655393e+01  3.63439778e+01  5.75220147e-01 -2.11427965e+01\n",
      "  -5.12203875e+00  5.60350435e+01  5.20172775e+01 -5.32552246e+00\n",
      "   1.66163195e+01 -2.82795507e+00]\n",
      " [ 4.37293103e+01  3.47221748e+01  2.53530926e+00  8.56303630e+01\n",
      "  -2.12327732e+00 -1.80480775e+01 -5.32552246e+00 -5.37366426e+01\n",
      "  -3.80598022e+01  1.71488425e+01]\n",
      " [-7.77061536e+01  3.69588271e+01  3.81389579e+01 -1.29793657e+01\n",
      "   1.87712856e+01  5.10473215e+01  1.66163195e+01 -3.80598022e+01\n",
      "  -3.42306285e+01  5.18389323e+01]\n",
      " [ 6.38345507e+00  7.76033228e+01 -1.88189171e+01  4.93659322e+01\n",
      "   1.42070808e+01  1.45653889e+01 -2.82795507e+00  1.71488425e+01\n",
      "   5.18389323e+01  4.62938623e+01]]\n",
      "\n"
     ]
    }
   ],
   "source": [
    "B = deflate_matrix(A, eigenvalue_1, eigenvector_1)\n",
    "\n",
    "print(f\"Matrix B:\\n{B}\\n\")"
   ]
  },
  {
   "cell_type": "code",
   "execution_count": 7,
   "id": "1d8caa4f-a054-4b8c-bec8-c3428bc954d7",
   "metadata": {},
   "outputs": [
    {
     "name": "stdout",
     "output_type": "stream",
     "text": [
      "The second largest eigenvalue: 215.51333185450554\n",
      "\n",
      "The associated eigenvector: [ 0.67732194  0.15833335  0.27154213  0.28536159 -0.19843358  0.42556275\n",
      "  0.25029202  0.21231065 -0.06960453  0.16719133]\n",
      "\n"
     ]
    }
   ],
   "source": [
    "eigenvalue_2, eigenvector_2 = power_iteration(B)\n",
    "print(f\"The second largest eigenvalue: {eigenvalue_2}\\n\")\n",
    "print(f\"The associated eigenvector: {eigenvector_2}\\n\")"
   ]
  },
  {
   "cell_type": "markdown",
   "id": "b302374c-42c5-4b4c-97be-f7d5b85b5c25",
   "metadata": {},
   "source": [
    "## Question 4"
   ]
  },
  {
   "cell_type": "code",
   "execution_count": 8,
   "id": "d73f50f5-c35e-49b8-a35b-62e1782eef23",
   "metadata": {},
   "outputs": [
    {
     "name": "stdout",
     "output_type": "stream",
     "text": [
      "1-th largest eigenvalue: -255.4703074416301\n",
      "\n",
      "2-th largest eigenvalue: 215.51333185450554\n",
      "\n",
      "3-th largest eigenvalue: -170.18004262720498\n",
      "\n",
      "4-th largest eigenvalue: 161.4384850985637\n",
      "\n",
      "5-th largest eigenvalue: -149.69437023129174\n",
      "\n"
     ]
    }
   ],
   "source": [
    "matrix = A\n",
    "\n",
    "for i in range(1,6):\n",
    "    \n",
    "    eigenvalue, eigenvector = power_iteration(matrix)\n",
    "    print(f\"{i}-th largest eigenvalue: {eigenvalue}\\n\")\n",
    "    # We should change th in st, nd, etc. but we are lazy\n",
    "     \n",
    "    deflated_matrix = deflate_matrix(matrix, eigenvalue, eigenvector)\n",
    "    matrix = deflated_matrix"
   ]
  },
  {
   "cell_type": "markdown",
   "id": "89c7914b-8c11-423e-a704-1e539d396614",
   "metadata": {},
   "source": [
    "## Question 5\n",
    "\n",
    "We replace $N=10$ in Quesion 1 by other values of $N$.\n",
    "\n",
    "Note that the time required to perform these operations scales proportionally with $N^3$, which is expected due to the computational complexity of matrix multiplication. However, there are opportunities for optimizing the matrix multiplication."
   ]
  },
  {
   "cell_type": "code",
   "execution_count": null,
   "id": "fa19a512-ac2f-41a0-b375-5c1e181508a8",
   "metadata": {},
   "outputs": [],
   "source": []
  }
 ],
 "metadata": {
  "kernelspec": {
   "display_name": "Python 3 (ipykernel)",
   "language": "python",
   "name": "python3"
  },
  "language_info": {
   "codemirror_mode": {
    "name": "ipython",
    "version": 3
   },
   "file_extension": ".py",
   "mimetype": "text/x-python",
   "name": "python",
   "nbconvert_exporter": "python",
   "pygments_lexer": "ipython3",
   "version": "3.9.6"
  }
 },
 "nbformat": 4,
 "nbformat_minor": 5
}
