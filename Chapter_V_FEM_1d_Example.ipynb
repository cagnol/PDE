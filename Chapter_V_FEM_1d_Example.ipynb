{
 "cells": [
  {
   "cell_type": "code",
   "execution_count": 1,
   "metadata": {},
   "outputs": [],
   "source": [
    "import numpy as np"
   ]
  },
  {
   "cell_type": "code",
   "execution_count": 2,
   "metadata": {},
   "outputs": [],
   "source": [
    "import matplotlib.pyplot as plt"
   ]
  },
  {
   "cell_type": "code",
   "execution_count": 3,
   "metadata": {},
   "outputs": [],
   "source": [
    "J=10"
   ]
  },
  {
   "cell_type": "code",
   "execution_count": 4,
   "metadata": {},
   "outputs": [],
   "source": [
    "h=1/(J+1)"
   ]
  },
  {
   "cell_type": "code",
   "execution_count": 5,
   "metadata": {},
   "outputs": [
    {
     "name": "stdout",
     "output_type": "stream",
     "text": [
      "0.09090909090909091\n"
     ]
    }
   ],
   "source": [
    "print(h)"
   ]
  },
  {
   "cell_type": "code",
   "execution_count": 6,
   "metadata": {},
   "outputs": [],
   "source": [
    "Ah = 1/h * np.array([[ 2,-1, 0, 0, 0, 0, 0, 0, 0, 0],\n",
    "                     [-1, 2,-1, 0, 0, 0, 0, 0, 0, 0],\n",
    "                     [ 0,-1, 2,-1, 0, 0, 0, 0, 0, 0],\n",
    "                     [ 0, 0,-1, 2,-1, 0, 0, 0, 0, 0],\n",
    "                     [ 0, 0, 0,-1, 2,-1, 0, 0, 0, 0],\n",
    "                     [ 0, 0, 0, 0,-1, 2,-1, 0, 0, 0],\n",
    "                     [ 0, 0, 0, 0, 0,-1, 2,-1, 0, 0],\n",
    "                     [ 0, 0, 0, 0, 0, 0,-1, 2,-1, 0],\n",
    "                     [ 0, 0, 0, 0, 0, 0, 0,-1, 2,-1],\n",
    "                     [ 0, 0, 0, 0, 0, 0, 0, 0,-1, 2]])"
   ]
  },
  {
   "cell_type": "code",
   "execution_count": 7,
   "metadata": {},
   "outputs": [],
   "source": [
    "bh = h * np.array([1, 1, 1, 1, 1, 1, 1, 1, 1, 1])"
   ]
  },
  {
   "cell_type": "code",
   "execution_count": 8,
   "metadata": {},
   "outputs": [
    {
     "name": "stdout",
     "output_type": "stream",
     "text": [
      "[[ 22. -11.   0.   0.   0.   0.   0.   0.   0.   0.]\n",
      " [-11.  22. -11.   0.   0.   0.   0.   0.   0.   0.]\n",
      " [  0. -11.  22. -11.   0.   0.   0.   0.   0.   0.]\n",
      " [  0.   0. -11.  22. -11.   0.   0.   0.   0.   0.]\n",
      " [  0.   0.   0. -11.  22. -11.   0.   0.   0.   0.]\n",
      " [  0.   0.   0.   0. -11.  22. -11.   0.   0.   0.]\n",
      " [  0.   0.   0.   0.   0. -11.  22. -11.   0.   0.]\n",
      " [  0.   0.   0.   0.   0.   0. -11.  22. -11.   0.]\n",
      " [  0.   0.   0.   0.   0.   0.   0. -11.  22. -11.]\n",
      " [  0.   0.   0.   0.   0.   0.   0.   0. -11.  22.]]\n"
     ]
    }
   ],
   "source": [
    "print(Ah)"
   ]
  },
  {
   "cell_type": "code",
   "execution_count": 9,
   "metadata": {},
   "outputs": [
    {
     "name": "stdout",
     "output_type": "stream",
     "text": [
      "[0.09090909 0.09090909 0.09090909 0.09090909 0.09090909 0.09090909\n",
      " 0.09090909 0.09090909 0.09090909 0.09090909]\n"
     ]
    }
   ],
   "source": [
    "print(bh)"
   ]
  },
  {
   "cell_type": "code",
   "execution_count": 10,
   "metadata": {},
   "outputs": [],
   "source": [
    "uh = np.linalg.solve(Ah,bh)"
   ]
  },
  {
   "cell_type": "code",
   "execution_count": 11,
   "metadata": {},
   "outputs": [
    {
     "name": "stdout",
     "output_type": "stream",
     "text": [
      "[0.04132231 0.07438017 0.09917355 0.11570248 0.12396694 0.12396694\n",
      " 0.11570248 0.09917355 0.07438017 0.04132231]\n"
     ]
    }
   ],
   "source": [
    "print(uh)"
   ]
  },
  {
   "cell_type": "code",
   "execution_count": 12,
   "metadata": {},
   "outputs": [
    {
     "data": {
      "text/plain": [
       "[<matplotlib.lines.Line2D at 0x7f5001f77cf8>]"
      ]
     },
     "execution_count": 12,
     "metadata": {},
     "output_type": "execute_result"
    },
    {
     "data": {
      "image/png": "[encoded data removed]",
      "text/plain": [
       "<Figure size 432x288 with 1 Axes>"
      ]
     },
     "metadata": {
      "needs_background": "light"
     },
     "output_type": "display_data"
    }
   ],
   "source": [
    "plt.plot(np.arange(0,1+h/10,h),np.concatenate([[0],uh,[0]]))"
   ]
  },
  {
   "cell_type": "code",
   "execution_count": null,
   "metadata": {},
   "outputs": [],
   "source": []
  }
 ],
 "metadata": {
  "kernelspec": {
   "display_name": "Python 3",
   "language": "python",
   "name": "python3"
  },
  "language_info": {
   "codemirror_mode": {
    "name": "ipython",
    "version": 3
   },
   "file_extension": ".py",
   "mimetype": "text/x-python",
   "name": "python",
   "nbconvert_exporter": "python",
   "pygments_lexer": "ipython3",
   "version": "3.6.11"
  }
 },
 "nbformat": 4,
 "nbformat_minor": 4
}
